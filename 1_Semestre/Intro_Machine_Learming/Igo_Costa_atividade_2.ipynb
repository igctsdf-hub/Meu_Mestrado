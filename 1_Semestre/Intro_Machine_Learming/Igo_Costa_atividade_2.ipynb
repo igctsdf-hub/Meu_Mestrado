{
 "cells": [
  {
   "cell_type": "code",
   "execution_count": null,
   "id": "72f1c5ca-f398-4f81-b720-41f4b376ff2e",
   "metadata": {},
   "outputs": [],
   "source": []
  }
 ],
 "metadata": {
  "kernelspec": {
   "display_name": "Python 3 (ipykernel)",
   "language": "python",
   "name": "python3"
  },
  "language_info": {
   "codemirror_mode": {
    "name": "ipython",
    "version": 3
   },
   "file_extension": ".py",
   "mimetype": "text/x-python",
   "name": "python",
   "nbconvert_exporter": "python",
   "pygments_lexer": "ipython3",
   "version": "3.13.5"
  }
 },
 "nbformat": 4,
 "nbformat_minor": 5
}
