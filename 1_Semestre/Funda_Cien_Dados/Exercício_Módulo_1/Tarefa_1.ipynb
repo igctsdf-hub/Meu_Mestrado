{
 "cells": [
  {
   "cell_type": "markdown",
   "id": "573542d6-ccab-46db-b72e-a8cc8941e666",
   "metadata": {},
   "source": [
    "## Título do Projeto: Análise do Uso da Dispensa de Licitação nos Gastos do Governo Federal"
   ]
  },
  {
   "cell_type": "markdown",
   "id": "508d8cef",
   "metadata": {},
   "source": [
    "## 1. Introdução e Justificativa\n",
    "\n",
    "A aquisição de bens e serviços pelo setor público brasileiro é determinada pelo princípio constitucional da licitação, um procedimento que busca assegurar a igualdade entre os concorrentes e a escolha da proposta mais benéfrica para a administração pública. Esse mecanismo é essencial para a transparência, eficiência e integridade na aplicação de recursos públicos.\n",
    "\n",
    "No entanto, a lei estabelece exceções a essa norma, como a \"dispensa de licitação\", um mecanismo jurídico voltado para situações particulares, como emergências, calamidades ou contratações de baixo custo.\n",
    "\n",
    "O problema público que este projeto pretende investigar está no perigo de que a utilização desse mecanismo de exceção se transforme em uma prática administrativa habitual, desviando-se do processo competitivo garantido pela licitação. A utilização excessiva ou imprópria da dispensa de licitação pode levar a efeitos negativos consideráveis, como a diminuição da competitividade, a possibilidade de sobrepreço nos bens e serviços adquiridos, o favorecimento de determinados fornecedores e a diminuição da transparência nos gastos públicos. Assim, acompanhar e avaliar o perfil dessas contratações é fundamental para o controle social e para a governança eficaz."
   ]
  },
  {
   "cell_type": "markdown",
   "id": "b601b46d-196d-42dd-900b-49159be0e570",
   "metadata": {},
   "source": [
    "## 2. Objetivo da Análise\n",
    "\n",
    "### 2.1. Objetivo Geral\n",
    "\n",
    "O objetivo geral deste trabalho é analisar o perfil, a evolução e as características das contratações públicas realizadas pelo Governo Federal via dispensa de licitação, a fim de identificar padrões que possam indicar riscos à eficiência e à transparência do gasto público, por meio do uso excessivo da modalidade.\n",
    "\n",
    "### 2.2. Objetivos Específicos\n",
    "\n",
    "Para atingir o objetivo geral, esta análise buscará:\n",
    "* Quantificar a evolução temporal do volume financeiro e do número de contratos firmados por dispensa de licitação;\n",
    "* Identificar os principais órgãos e Unidades Gestoras que mais utilizam esta modalidade de contratação;\n",
    "* Verificar o nível de concentração dos valores contratados entre as empresas fornecedoras;\n",
    "* Caracterizar, por meio de técnicas de mineração de texto, os principais tipos de bens e serviços adquiridos."
   ]
  },
  {
   "cell_type": "markdown",
   "id": "7bc36b48-40f0-4316-831a-1260295d0fba",
   "metadata": {},
   "source": [
    "## 3. Base de Dados e Metodologia\n",
    "\n",
    "Os dados utilizados nesta análise serão extraídos da área de Dados Abertos do Portal da Transparência da Controladoria-Geral da União (CGU). Será utilizado o conjunto de dados públicos sobre \"Licitações do Poder Executivo Federal\", com um recorte temporal abrangendo o mês de janeiro de 2024.\n",
    "\n",
    "A pesquisa adotará uma metodologia quantitativa, seguindo um fluxo de trabalho de ciência de dados implementado em Python. O processo seguirá as seguintes etapas:\n",
    "\n",
    "1.  **Extração e Pré-processamento:** Garantir a qualidade e pertinência dos dados.\n",
    "2.  **Análise Exploratória:** Revelar as principais características estatísticas das variáveis.\n",
    "3.  **Segmentação:** Identificar padrões e concentrações nos dados.\n",
    "4.  **Mineração de Texto:** Extrair insights de informações não estruturadas, como as descrições dos objetos de licitação.\n",
    "\n",
    "Essa abordagem integrada permite uma análise multidimensional e robusta do fenômeno em estudo."
   ]
  },
  {
   "cell_type": "markdown",
   "id": "7dc0099f-8468-4254-8825-06d27d0e7841",
   "metadata": {},
   "source": [
    "## 4. Resultados Esperados e Implicações para Políticas Públicas\n",
    "\n",
    "A análise deve produzir um diagnóstico minucioso sobre a utilização da dispensa de licitação pelo Governo Federal no período de janeiro de 2024. Os resultados irão quantificar o montante de recursos movimentados e apontar os órgãos e fornecedores mais envolvidos. A caracterização dos objetos adquiridos permitirá a identificação de padrões e áreas de melhoria no planejamento de compras.\n",
    "\n",
    "As implicações destes resultados para políticas públicas são diretas:\n",
    "* Fornecer evidências que podem subsidiar a atuação dos órgãos de controle (TCU, CGU) no direcionamento de auditorias.\n",
    "* Auxiliar gestores públicos a aprimorar seus processos de aquisição.\n",
    "* Fortalecer o controle social, ao prover uma visão clara e baseada em dados sobre como o dinheiro público está sendo utilizado em contratações sem concorrência."
   ]
  }
 ],
 "metadata": {
  "kernelspec": {
   "display_name": "Python 3 (ipykernel)",
   "language": "python",
   "name": "python3"
  },
  "language_info": {
   "codemirror_mode": {
    "name": "ipython",
    "version": 3
   },
   "file_extension": ".py",
   "mimetype": "text/x-python",
   "name": "python",
   "nbconvert_exporter": "python",
   "pygments_lexer": "ipython3",
   "version": "3.13.5"
  }
 },
 "nbformat": 4,
 "nbformat_minor": 5
}
