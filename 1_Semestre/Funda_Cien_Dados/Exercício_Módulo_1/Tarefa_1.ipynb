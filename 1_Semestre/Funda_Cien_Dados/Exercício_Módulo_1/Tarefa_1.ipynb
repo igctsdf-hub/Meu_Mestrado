{
 "cells": [
  {
   "cell_type": "markdown",
   "id": "de05dc9c-b85a-4fce-942f-54e131aa0960",
   "metadata": {},
   "source": [
    "# Análise do Uso da Dispensa de Licitação nos Gastos do Governo Federal\n",
    "\n",
    "**Integrantes do Grupo:**\n",
    "- Ian Lopes Abou Ibrahim\n",
    "- Igo Costa"
   ]
  },
  {
   "cell_type": "markdown",
   "id": "573542d6-ccab-46db-b72e-a8cc8941e666",
   "metadata": {},
   "source": [
    "## 1. Introdução e Justificativa\n",
    "\n",
    "A aquisição de bens e serviços pelo setor público brasileiro é determinada pelo princípio constitucional da licitação, um procedimento que busca assegurar a igualdade entre os concorrentes e a escolha da proposta mais benéfrica para a administração pública. Esse mecanismo é essencial para a transparência, eficiência e integridade na aplicação de recursos públicos.\n",
    "\n",
    "No entanto, a lei estabelece exceções a essa norma, como a \"dispensa de licitação\", um mecanismo jurídico voltado para situações particulares, como emergências, calamidades ou contratações de baixo custo.\n",
    "\n",
    "O problema público que este projeto pretende investigar está no perigo de que a utilização desse mecanismo de exceção se transforme em uma prática administrativa habitual, desviando-se do processo competitivo garantido pela licitação. A utilização excessiva ou imprópria da dispensa de licitação pode levar a efeitos negativos consideráveis, como a diminuição da competitividade, a possibilidade de sobrepreço nos bens e serviços adquiridos, o favorecimento de determinados fornecedores e a diminuição da transparência nos gastos públicos. Assim, acompanhar e avaliar o perfil dessas contratações é fundamental para o controle social e para a governança eficaz."
   ]
  },
  {
   "cell_type": "markdown",
   "id": "b601b46d-196d-42dd-900b-49159be0e570",
   "metadata": {},
   "source": [
    "## 2. Objetivo da Análise\n",
    "\n",
    "### 2.1. Objetivo Geral\n",
    "\n",
    "O objetivo geral deste trabalho é analisar o perfil, a evolução e as características das contratações públicas realizadas pelo Governo Federal via dispensa de licitação, a fim de identificar padrões que possam indicar riscos à eficiência e à transparência do gasto público, por meio do uso excessivo da modalidade.\n",
    "\n",
    "### 2.2. Objetivos Específicos\n",
    "\n",
    "Para atingir o objetivo geral, esta análise buscará:\n",
    "* Quantificar a evolução temporal do volume financeiro e do número de contratos firmados por dispensa de licitação;\n",
    "* Identificar os principais órgãos e Unidades Gestoras que mais utilizam esta modalidade de contratação;\n",
    "* Verificar o nível de concentração dos valores contratados entre as empresas fornecedoras;\n",
    "* Caracterizar, por meio de técnicas de mineração de texto, os principais tipos de bens e serviços adquiridos."
   ]
  },
  {
   "cell_type": "markdown",
   "id": "7bc36b48-40f0-4316-831a-1260295d0fba",
   "metadata": {},
   "source": [
    "## 3. Base de Dados e Metodologia\n",
    "\n",
    "Os dados utilizados nesta análise serão extraídos da área de Dados Abertos do Portal da Transparência da Controladoria-Geral da União (CGU). Será utilizado o conjunto de dados públicos sobre \"Licitações do Poder Executivo Federal\", com um recorte temporal abrangendo o mês de janeiro de 2024.\n",
    "\n",
    "A pesquisa adotará uma metodologia quantitativa, seguindo um fluxo de trabalho de ciência de dados implementado em Python. O processo seguirá as seguintes etapas:\n",
    "\n",
    "1.  **Extração e Pré-processamento:** Garantir a qualidade e pertinência dos dados.\n",
    "2.  **Análise Exploratória:** Revelar as principais características estatísticas das variáveis.\n",
    "3.  **Segmentação:** Identificar padrões e concentrações nos dados.\n",
    "4.  **Mineração de Texto:** Extrair insights de informações não estruturadas, como as descrições dos objetos de licitação.\n",
    "\n",
    "Essa abordagem integrada permite uma análise multidimensional e robusta do fenômeno em estudo."
   ]
  },
  {
   "cell_type": "markdown",
   "id": "7dc0099f-8468-4254-8825-06d27d0e7841",
   "metadata": {},
   "source": [
    "## 4. Resultados Esperados e Implicações para Políticas Públicas\n",
    "\n",
    "A análise deve produzir um diagnóstico minucioso sobre a utilização da dispensa de licitação pelo Governo Federal no período de janeiro de 2024. Os resultados irão quantificar o montante de recursos movimentados e apontar os órgãos e fornecedores mais envolvidos. A caracterização dos objetos adquiridos permitirá a identificação de padrões e áreas de melhoria no planejamento de compras.\n",
    "\n",
    "As implicações destes resultados para políticas públicas são diretas:\n",
    "* Fornecer evidências que podem subsidiar a atuação dos órgãos de controle (TCU, CGU) no direcionamento de auditorias.\n",
    "* Auxiliar gestores públicos a aprimorar seus processos de aquisição.\n",
    "* Fortalecer o controle social, ao prover uma visão clara e baseada em dados sobre como o dinheiro público está sendo utilizado em contratações sem concorrência."
   ]
  },
  {
   "cell_type": "markdown",
   "id": "d9b0dbcb-fc7b-40f0-9824-79eb6f809bbb",
   "metadata": {},
   "source": [
    "---\n",
    "## 5. Implementação da Análise\n",
    "\n",
    "A partir deste ponto, iniciaremos a implementação prática do projeto, começando com a importação das bibliotecas e o carregamento dos dados para darmos início à Tarefa 2 e ao Trabalho Final."
   ]
  },
  {
   "cell_type": "code",
   "execution_count": null,
   "id": "fe03707e-c309-40a4-ac4f-be800f881d0d",
   "metadata": {},
   "outputs": [],
   "source": [
    "# Importação das bibliotecas fundamentais para a análise de dados\n",
    "import pandas as pd\n",
    "import numpy as np\n",
    "import matplotlib.pyplot as plt\n",
    "import seaborn as sns\n",
    "\n",
    "# Configurações de visualização para os gráficos\n",
    "sns.set_style('whitegrid')\n",
    "%matplotlib inline\n",
    "\n",
    "print(\"Bibliotecas importadas com sucesso. Ambiente pronto para a análise.\")"
   ]
  },
  {
   "cell_type": "markdown",
   "id": "67469dc1-2714-41ae-bfce-8b2f9ebc1297",
   "metadata": {},
   "source": [
    "## 6. Análise Descritiva Quantitativa (Tarefa 2)\n",
    "\n",
    "Nesta seção, vamos realizar a análise quantitativa exigida pela Tarefa 2 do curso. Faremos o carregamento e limpeza dos dados, e em seguida calcularemos as medidas de tendência central e dispersão para a principal variável numérica do nosso estudo: o valor das licitações."
   ]
  },
  {
   "cell_type": "code",
   "execution_count": null,
   "id": "0781cbe1-a3bf-487c-81ea-3fb24c0f8421",
   "metadata": {},
   "outputs": [],
   "source": [
    "# Passo 1: Carregar e Preparar os Dados (Revisão da Parte 1)\n",
    "\n",
    "# --- CONFIGURAÇÃO ---\n",
    "# Confirme se o nome do arquivo CSV está correto e na mesma pasta do notebook.\n",
    "nome_do_arquivo = '202401_Licitacoes.csv'\n",
    "# --------------------\n",
    "\n",
    "try:\n",
    "    # Carrega o dataset completo\n",
    "    df_completo = pd.read_csv(nome_do_arquivo, sep=';', encoding='latin-1', decimal=',')\n",
    "    \n",
    "    # Filtra apenas pela modalidade \"Dispensa de Licitação\"\n",
    "    df_dispensa = df_completo[df_completo['Modalidade Compra'] == 'Dispensa de Licitação'].copy()\n",
    "    \n",
    "    # Limpa e converte a coluna de valor para formato numérico\n",
    "    coluna_valor = 'Valor Licitacao'\n",
    "    df_dispensa[coluna_valor] = df_dispensa[coluna_valor].str.replace('.', '', regex=False).str.replace(',', '.', regex=False)\n",
    "    df_dispensa[coluna_valor] = pd.to_numeric(df_dispensa[coluna_valor], errors='coerce')\n",
    "    \n",
    "    # Remove linhas onde o valor possa ter se tornado nulo após a conversão\n",
    "    df_dispensa.dropna(subset=[coluna_valor], inplace=True)\n",
    "    \n",
    "    print(\"Dados carregados e preparados com sucesso!\")\n",
    "    print(f\"Total de {df_dispensa.shape[0]} registros de dispensa de licitação para análise.\")\n",
    "\n",
    "except FileNotFoundError:\n",
    "    print(f\"ERRO: O arquivo '{nome_do_arquivo}' não foi encontrado.\")\n",
    "    print(\"Por favor, realize o download e coloque-o na pasta correta antes de continuar.\")"
   ]
  },
  {
   "cell_type": "markdown",
   "id": "4b906906-bf6f-45ad-ba05-059f4a7e9982",
   "metadata": {},
   "source": [
    "### 6.1. Análise da Variável \"Valor da Licitação\"\n",
    "\n",
    "Vamos agora calcular as métricas estatísticas para a coluna `Valor Licitacao` do nosso conjunto de dados já filtrado."
   ]
  },
  {
   "cell_type": "code",
   "execution_count": null,
   "id": "02767e75-065c-427e-9428-5fa829d58b28",
   "metadata": {},
   "outputs": [],
   "source": [
    "# Passo 2: Calcular as Medidas Estatísticas\n",
    "\n",
    "# Certifica-se de que o DataFrame df_dispensa existe antes de prosseguir\n",
    "if 'df_dispensa' in locals():\n",
    "    valor = df_dispensa['Valor Licitacao']\n",
    "\n",
    "    # Medidas de Tendência Central\n",
    "    media = valor.mean()\n",
    "    mediana = valor.median()\n",
    "    moda = valor.mode()[0]  # O método mode() retorna uma série, pegamos o primeiro elemento\n",
    "\n",
    "    # Medidas de Dispersão\n",
    "    desvio_padrao = valor.std()\n",
    "    valor_minimo = valor.min()\n",
    "    valor_maximo = valor.max()\n",
    "\n",
    "    print(\"--- Análise Estatística do Valor das Dispensas de Licitação ---\")\n",
    "    print(\"\\nMedidas de Tendência Central:\")\n",
    "    print(f\"  - Média: R$ {media:,.2f}\")\n",
    "    print(f\"  - Mediana: R$ {mediana:,.2f}\")\n",
    "    print(f\"  - Moda: R$ {moda:,.2f}\")\n",
    "\n",
    "    print(\"\\nMedidas de Dispersão:\")\n",
    "    print(f\"  - Desvio Padrão: R$ {desvio_padrao:,.2f}\")\n",
    "    print(f\"  - Valor Mínimo: R$ {valor_minimo:,.2f}\")\n",
    "    print(f\"  - Valor Máximo: R$ {valor_maximo:,.2f}\")\n",
    "\n",
    "else:\n",
    "    print(\"O DataFrame 'df_dispensa' não foi criado. Execute a célula anterior primeiro.\")"
   ]
  },
  {
   "cell_type": "markdown",
   "id": "a5dca246-f058-4baa-84f6-c6c6c8ea0463",
   "metadata": {},
   "source": [
    "### 6.2. Comentários e Implicações para Políticas Públicas\n",
    "*Nesta seção, você deve escrever sua análise textual, conforme solicitado na Tarefa 2. Use os resultados da célula anterior para guiar suas reflexões. Alguns pontos para considerar:*\n",
    "\n",
    "* **Comparação entre Média e Mediana:** A média é significativamente maior que a mediana? O que isso indica sobre a distribuição dos valores? Existem alguns contratos com valores extremamente altos que estão \"puxando\" a média para cima?\n",
    "* **Significado do Desvio Padrão:** O desvio padrão é muito alto? Isso sugere que os valores das contratações são muito heterogêneos (variam muito) ou são mais ou menos padronizados?\n",
    "* **Análise dos Extremos (Mínimo e Máximo):** O valor máximo é muito elevado para uma contratação por dispensa? Isso pode ser um ponto de atenção para os órgãos de controle? O que pode justificar um valor tão alto sem licitação?\n",
    "* **Implicações:** Com base nesses números, o que se pode dizer sobre o uso da dispensa de licitação em janeiro de 2024? Aparentemente, ela está sendo usada para compras pequenas (como a mediana e a moda sugerem) ou há indícios de grandes contratações que merecem investigação (como o valor máximo e a média alta podem sugerir)?"
   ]
  },
  {
   "cell_type": "code",
   "execution_count": null,
   "id": "4e6ad031-6c03-4ba7-a9e6-a6a52e393bf3",
   "metadata": {},
   "outputs": [],
   "source": []
  }
 ],
 "metadata": {
  "kernelspec": {
   "display_name": "Python 3 (ipykernel)",
   "language": "python",
   "name": "python3"
  },
  "language_info": {
   "codemirror_mode": {
    "name": "ipython",
    "version": 3
   },
   "file_extension": ".py",
   "mimetype": "text/x-python",
   "name": "python",
   "nbconvert_exporter": "python",
   "pygments_lexer": "ipython3",
   "version": "3.13.5"
  }
 },
 "nbformat": 4,
 "nbformat_minor": 5
}
