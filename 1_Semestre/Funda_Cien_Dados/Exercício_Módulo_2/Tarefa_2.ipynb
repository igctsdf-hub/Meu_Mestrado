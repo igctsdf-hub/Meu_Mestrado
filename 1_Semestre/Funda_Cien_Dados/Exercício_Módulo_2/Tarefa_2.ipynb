{
  "cells": [
    {
      "cell_type": "markdown",
      "metadata": {},
      "source": [
        "# Integrantes do Grupo:\n",
        "- Igo Costa\n",
        "- Rafael"
      ]
    },
    {
      "cell_type": "markdown",
      "metadata": {},
      "source": [
        "# QUAIS SÃO OS POTENCIAIS RISCOS E BENEFÍCIOS DO USO DE INTELIGÊNCIA ARTIFICIAL NO SETOR PÚBLICO BRASILEIRO\n",
        "\n",
        "**Instituto Brasileiro de Ensino, Desenvolvimento e Pesquisa - IDP**\n",
        "\n",
        "**Curso de Mestrado Acadêmico em ciência de dados e inteligência artificial**\n",
        "\n",
        "**Disciplina: Fundamentos da Ciência de Dados no Setor Público**\n",
        "\n",
        "**Brasília – DF**\n",
        "\n",
        "**2025**"
      ]
    },
    {
      "cell_type": "markdown",
      "metadata": {},
      "source": [
        "## INTRODUÇÃO\n",
        "\n",
        "A inteligência artificial (IA), hodiernamente, está transformando a sociedade e seus mais distintos setores desde o setor privado ao setor público. Juntamente com a evolução da capacidade de processamento dos recursos de hardware atuais, foi possível aumentar a capacidade de processamento de dados, dando origem a algoritmos de aprendizado de máquina, os quais contribuíram para a modernização da administração pública, não obstante a isso o uso da IA traz consigo preceitos éticos que devem ser observados a fim de evitar riscos e impactos negativos para sociedade."
      ]
    },
    {
      "cell_type": "markdown",
      "metadata": {},
      "source": [
        "## REVISÃO DE LITERATURA\n",
        "\n",
        "O uso da IA no serviço público traz um conjunto de benefícios tanto para sociedade quanto para os servidores, dentre eles estão a eficiência o qual foi inserido na Constituição pela Emenda Constitucional n° 19, de 1988, no caput do art. 37, além da otimização dos processos internos os quais são essenciais para a celeridade das demandas administrativas.\n",
        "\n",
        "Além disso, a governança digital tem transformado a administração pública, tornando-a eficiente, transparente e acessível para a sociedade. Isso ocorre especialmente com o avanço da Inteligência Artificial (IA), que tem sido um fator determinante nessa modernização, possibilitando a automatização de processos burocráticos, reduzindo erros e agilizando o atendimento ao cidadão. Por meio de ferramentas como assistentes virtuais, a IA proporciona o acesso às informações e serviços públicos, promovendo maior inclusão e interação entre governo e população (REIS, 2025).\n",
        "\n",
        "Um exemplo notável dessa transformação é o Tribunal de Contas da União (TCU) que, em 2023, se destacou ao ser um dos primeiros órgãos a implementar uma tecnologia de Inteligência Artificial (IA) generativa, o ChatTCU. Conectado a diversos sistemas internos, essa ferramenta está disponível para servidores e colaboradores, realizando tarefas como análise de documentos, pesquisa jurídica, tradução e consultas administrativas (TCU, 2024). Similarmente, a Controladoria-Geral da União (CGU) lançou o projeto Alice, que diariamente analisa de forma automatizada processos de compras e contratações públicas. Ao identificar potenciais riscos e inconsistências, o Alice emite alertas, permitindo uma atuação preventiva e tempestiva em processos licitatórios (CGU, [s.d.]).\n",
        "\n",
        "Segundo o guia da Secretaria de Governo Digital, antes de utilizar ferramentas de IA, é necessário analisar os riscos associados a cada caso de uso. Vale lembrar que IAS são treinadas com grandes volumes de dados e, apesar de produzirem \"respostas criativas\", elas conseguem ser inexatas e irrelevantes, mesmo que pareçam coerentes, podendo levar a erros na sua aplicação. Além disso, outro risco elencado é o de vazamento de dados por meio de práticas inadequadas de armazenamento e compartilhamento, expondo informações sigilosas e pessoais. Outro ponto preocupante é o viés algorítmico, que ocorre quando os algoritmos são treinados com dados históricos que podem conter vieses humanos, como desigualdades raciais, de gênero ou socioeconômicas, resultando em decisões equivocadas que não representam a realidade."
      ]
    },
    {
      "cell_type": "markdown",
      "metadata": {},
      "source": [
        "## REFLEXÃO CRÍTICA\n",
        "\n",
        "A implementação da Inteligência Artificial no setor público brasileiro revela uma tensão fundamental: de um lado, o potencial de otimizar processos e ampliar a eficiência, como visto nos projetos do TCU e da CGU ; de outro, a emergência de riscos significativos que demandam cautela. A busca por celeridade, embora desejável, não pode negligenciar os desafios éticos, como a falta de transparência em algoritmos de \"caixa-preta\", que criam um vácuo na responsabilização por decisões automatizadas, e o viés algorítmico, que pode perpetuar desigualdades.\n",
        "\n",
        "Ademais, a promessa de um governo mais acessível por meio de ferramentas de IA pode ser paradoxal. A automação de serviços corre o risco de aprofundar a exclusão social de cidadãos com baixo letramento ou acesso digital, contrariando o objetivo de maior inclusão. Fica evidente, portanto, que a adoção bem-sucedida da IA transcende o desafio tecnológico, exigindo a construção de um sólido ecossistema de governança que assegure o uso ético, transparente e equitativo da tecnologia, em benefício de toda a sociedade."
      ]
    },
    {
      "cell_type": "markdown",
      "metadata": {},
      "source": [
        "## CONCLUSÃO\n",
        "\n",
        "A Inteligência Artificial possui um potencial revolucionário para o setor público brasileiro, prometendo um governo mais eficaz, transparente e que responde melhor às demandas dos cidadãos. Contudo, não se pode ignorar os perigos ligados ao seu uso, como o viés algorítmico, a ausência de transparência e os efeitos no mercado de trabalho.\n",
        "\n",
        "A implementação bem-sucedida da IA no governo requer um compromisso sólido com princípios éticos e a criação de um ecossistema de governança que garanta que a inovação tecnológica contribua para a redução, em vez de ampliação, das desigualdades sociais."
      ]
    },
    {
      "cell_type": "markdown",
      "metadata": {},
      "source": [
        "## REFERÊNCIAS\n",
        "\n",
        "- CONTROLADORIA-GERAL DA UNIÃO (CGU). Alice: Analisador de Licitações, Contratos e Editais. [S. l.], [s.d.]. Disponível em: <https://www.gov.br/cgu/pt-br/assuntos/auditoria-e-fiscalizacao/alice>. Acesso em: 1 out. 2025.\n",
        "- REIS, Alex da Fonseca. Inteligência artificial na administração pública: caminhos para a transparência, acessibilidade e governança digital. Revista PsiPro / PsiPro Journal, v. 4, n. 2, 2025. <https://doi.org/10.5281/zenodo.15525002>.\n",
        "- BRASIL. Ministério da Gestão e da Inovação em Serviços Públicos. Secretaria de Governo Digital. IA Generativa no Serviço Público: definições, usos e boas práticas. Brasília, DF: [s.n.], 2025. Disponível em: <https://www.gov.br/governodigital/pt-br/infraestrutura-nacional-de-dados/inteligencia-artificial-1/ia-generativa-no-servico-publico.pdf>. Acesso em: 1 out. 2025.\n",
        "- TRIBUNAL DE CONTAS DA UNIÃO (TCU ). Uso de inteligência artificial aprimora processos internos no Tribunal de Contas da União. Brasília, DF: Secom, 22 fev. 2024. Disponível em: <https://portal.tcu.gov.br/imprensa/noticias/uso-de-inteligencia-artificial-aprimora-processos-internos-no-tribunal-de-contas-da-uniao>. Acesso em: 1 out. 2025."
      ]
    }
  ],
  "metadata": {
    "kernelspec": {
      "display_name": "Python 3",
      "language": "python",
      "name": "python3"
    },
    "language_info": {
      "codemirror_mode": {
        "name": "ipython",
        "version": 3
      },
      "file_extension": ".py",
      "mimetype": "text/x-python",
      "name": "python",
      "nbconvert_exporter": "python",
      "pygments_lexer": "ipython3",
      "version": "3.11.0"
    }
  },
  "nbformat": 4,
  "nbformat_minor": 2
}
